{
 "cells": [
  {
   "cell_type": "code",
   "execution_count": 1,
   "id": "9f0ed476",
   "metadata": {},
   "outputs": [
    {
     "name": "stdout",
     "output_type": "stream",
     "text": [
      "Average price of available products: 485.11\n",
      "Number of high-value products: 16\n",
      "Characteristics of high-value products:\n",
      "            Price       Stock\n",
      "count   16.000000   16.000000\n",
      "mean   786.562500  506.750000\n",
      "std    149.694787  310.425622\n",
      "min    502.000000   10.000000\n",
      "25%    719.500000  172.750000\n",
      "50%    795.500000  579.000000\n",
      "75%    905.250000  759.500000\n",
      "max    998.000000  912.000000\n"
     ]
    }
   ],
   "source": [
    "import pandas as pd\n",
    "\n",
    "df = pd.read_csv('products-100.csv')\n",
    "\n",
    "df_selected = df[['Name', 'Brand', 'Category', 'Price', 'Currency', 'Stock', 'Availability']]\n",
    "\n",
    "available_products = df_selected[df_selected['Availability'].isin(['in_stock', 'limited_stock'])]\n",
    "\n",
    "avg_price = available_products['Price'].mean()\n",
    "print(f\"Average price of available products: {avg_price:.2f}\")\n",
    "\n",
    "high_value_products = available_products[available_products['Price'] > 500]\n",
    "print(f\"Number of high-value products: {len(high_value_products)}\")\n",
    "\n",
    "print(\"Characteristics of high-value products:\")\n",
    "print(high_value_products.describe())\n"
   ]
  },
  {
   "cell_type": "code",
   "execution_count": null,
   "id": "1f09b645",
   "metadata": {},
   "outputs": [],
   "source": []
  }
 ],
 "metadata": {
  "kernelspec": {
   "display_name": "Python 3",
   "language": "python",
   "name": "python3"
  },
  "language_info": {
   "codemirror_mode": {
    "name": "ipython",
    "version": 3
   },
   "file_extension": ".py",
   "mimetype": "text/x-python",
   "name": "python",
   "nbconvert_exporter": "python",
   "pygments_lexer": "ipython3",
   "version": "3.13.7"
  }
 },
 "nbformat": 4,
 "nbformat_minor": 5
}
