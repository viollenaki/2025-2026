{
 "cells": [
  {
   "cell_type": "code",
   "execution_count": 7,
   "id": "7f8bf754",
   "metadata": {},
   "outputs": [
    {
     "name": "stdout",
     "output_type": "stream",
     "text": [
      "Original daily sales: [ 0  1  2  3  4  5  6  7  8  9 10 11 12 13 14 15]\n",
      "Reshaped sales (3x4):\n",
      " [[ 0  1  2  3]\n",
      " [ 4  5  6  7]\n",
      " [ 8  9 10 11]\n",
      " [12 13 14 15]]\n",
      "Auto reshaped sales (3x4):\n",
      " [[ 0  1  2  3]\n",
      " [ 4  5  6  7]\n",
      " [ 8  9 10 11]\n",
      " [12 13 14 15]]\n"
     ]
    }
   ],
   "source": [
    "import numpy as np\n",
    "\n",
    "daily_sales = np.arange(16)\n",
    "\n",
    "reshaped_sales = daily_sales.reshape(4, 4)\n",
    "\n",
    "auto_reshape = daily_sales.reshape(4, -1)\n",
    "\n",
    "print(\"Original daily sales:\", daily_sales)\n",
    "print(\"Reshaped sales (3x4):\\n\", reshaped_sales)\n",
    "print(\"Auto reshaped sales (3x4):\\n\", auto_reshape)"
   ]
  },
  {
   "cell_type": "code",
   "execution_count": 9,
   "id": "e6752999",
   "metadata": {},
   "outputs": [
    {
     "name": "stdout",
     "output_type": "stream",
     "text": [
      "Vertically stacked array:\n",
      " [[ 1  2  3]\n",
      " [ 4  5  6]\n",
      " [ 7  8  9]\n",
      " [10 11 12]]\n",
      "Horizontally stacked array:\n",
      " [[ 1  2  3  7  8  9]\n",
      " [ 4  5  6 10 11 12]]\n"
     ]
    }
   ],
   "source": [
    "import numpy as np\n",
    "\n",
    "array1 = np.array([[1, 2, 3], [4, 5, 6]])\n",
    "array2 = np.array([[7, 8, 9], [10, 11, 12]])\n",
    "\n",
    "v_stacked = np.vstack((array1, array2))\n",
    "h_stacked = np.hstack((array1, array2))\n",
    "\n",
    "print(\"Vertically stacked array:\\n\", v_stacked)\n",
    "print(\"Horizontally stacked array:\\n\", h_stacked)"
   ]
  },
  {
   "cell_type": "code",
   "execution_count": null,
   "id": "30ffc686",
   "metadata": {},
   "outputs": [],
   "source": []
  }
 ],
 "metadata": {
  "kernelspec": {
   "display_name": "Python 3",
   "language": "python",
   "name": "python3"
  },
  "language_info": {
   "codemirror_mode": {
    "name": "ipython",
    "version": 3
   },
   "file_extension": ".py",
   "mimetype": "text/x-python",
   "name": "python",
   "nbconvert_exporter": "python",
   "pygments_lexer": "ipython3",
   "version": "3.13.7"
  }
 },
 "nbformat": 4,
 "nbformat_minor": 5
}
